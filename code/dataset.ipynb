{
 "cells": [
  {
   "cell_type": "code",
   "execution_count": 129,
   "metadata": {},
   "outputs": [],
   "source": [
    "%matplotlib inline\n",
    "\n",
    "import os\n",
    "import IPython.display as ipd\n",
    "import numpy as np\n",
    "import pandas as pd\n",
    "import matplotlib.pyplot as plt\n",
    "import seaborn as sns\n",
    "import sklearn as skl\n",
    "import sklearn.utils, sklearn.preprocessing, sklearn.decomposition, sklearn.svm\n",
    "import utils\n",
    "import librosa\n",
    "import librosa.display\n",
    "\n",
    "plt.rcParams['figure.figsize'] = (17, 5)"
   ]
  },
  {
   "cell_type": "code",
   "execution_count": 130,
   "metadata": {
    "tags": []
   },
   "outputs": [
    {
     "output_type": "stream",
     "name": "stdout",
     "text": "The autoreload extension is already loaded. To reload it, use:\n  %reload_ext autoreload\n"
    },
    {
     "output_type": "execute_result",
     "data": {
      "text/plain": "((106574, 52), (163, 4), (106574, 518), (13129, 249))"
     },
     "metadata": {},
     "execution_count": 130
    }
   ],
   "source": [
    "%load_ext autoreload\n",
    "%autoreload 2\n",
    "# Directory where mp3 are stored.\n",
    "DIR_FMA = \"/media/eric/BulkyStorage/datasets/fma/\"\n",
    "#DIR_FMA = os.environ.get('AUDIO_DIR')\n",
    "\n",
    "DIR_META = os.path.join(DIR_FMA, \"fma_metadata\")\n",
    "DIR_SMALL = os.path.join(DIR_FMA, \"fma_small\")\n",
    "\n",
    "# load metadata and features.\n",
    "genres = utils.load(os.path.join(DIR_META, 'genres.csv'))\n",
    "features = utils.load(os.path.join(DIR_META, 'features.csv'))\n",
    "echonest = utils.load(os.path.join(DIR_META, 'echonest.csv'))\n",
    "tracks = utils.load(os.path.join(DIR_META, 'tracks.csv'))\n",
    "\n",
    "\n",
    "np.testing.assert_array_equal(features.index, tracks.index)\n",
    "assert echonest.index.isin(tracks.index).all()\n",
    "\n",
    "tracks.shape, genres.shape, features.shape, echonest.shape"
   ]
  },
  {
   "cell_type": "code",
   "execution_count": 131,
   "metadata": {
    "tags": []
   },
   "outputs": [],
   "source": [
    "#ipd.display(tracks['track']['genre_top'])\n",
    "#mask = (tracks['track']['genres'].str.len()>1)\n",
    "#tracks_multi_genres=(tracks['track']['genres'][mask])\n",
    "#print(tracks['track']['genres_all'].shape)\n",
    "#ipd.display(tracks.columns)\n",
    "#ipd.display(tracks['album'].head())\n",
    "#ipd.display(tracks['artist'].head())\n",
    "#ipd.display(tracks['set'].head())\n"
   ]
  },
  {
   "cell_type": "code",
   "execution_count": 132,
   "metadata": {
    "tags": []
   },
   "outputs": [
    {
     "output_type": "stream",
     "name": "stdout",
     "text": "***small dataset track_id with its labeled genre\ntrack_id\n2         Hip-Hop\n5         Hip-Hop\n10            Pop\n140          Folk\n141          Folk\n           ...   \n154308    Hip-Hop\n154309    Hip-Hop\n154413        Pop\n154414        Pop\n155066    Hip-Hop\nName: genre_top, Length: 8000, dtype: category\nCategories (16, object): ['Blues', 'Classical', 'Country', 'Easy Listening', ..., 'Pop', 'Rock', 'Soul-RnB', 'Spoken']\n***8 catogeries shown using [genre_top]\n['Hip-Hop', 'Pop', 'Folk', 'Experimental', 'Rock', 'International', 'Electronic', 'Instrumental']\nCategories (8, object): ['Hip-Hop', 'Pop', 'Folk', 'Experimental', 'Rock', 'International', 'Electronic', 'Instrumental']\n"
    }
   ],
   "source": [
    "small = tracks[tracks['set', 'subset'] <= 'small']\n",
    "df=small['track']['genre_top']\n",
    "print(\"***small dataset track_id with its labeled genre\")\n",
    "print(df)\n",
    "\n",
    "print(\"***8 catogeries shown using [genre_top]\")\n",
    "print(df.unique())\n"
   ]
  },
  {
   "cell_type": "code",
   "execution_count": 133,
   "metadata": {
    "tags": []
   },
   "outputs": [],
   "source": [
    "#print('{} top-level genres'.format(len(genres['top_level'].unique())))\n",
    "# print(genres.loc[genres['top_level'].unique()])\n",
    "# genres.loc[genres['top_level'].unique()].sort_values('#tracks', ascending=False)"
   ]
  },
  {
   "cell_type": "code",
   "execution_count": 134,
   "metadata": {},
   "outputs": [],
   "source": [
    "# genres.sort_values('#tracks').head()"
   ]
  },
  {
   "cell_type": "code",
   "execution_count": null,
   "metadata": {},
   "outputs": [],
   "source": []
  }
 ],
 "metadata": {
  "kernelspec": {
   "display_name": "Python 3.7.9 64-bit ('dsproject': conda)",
   "language": "python",
   "name": "python_defaultSpec_1601233333891"
  },
  "language_info": {
   "codemirror_mode": {
    "name": "ipython",
    "version": 3
   },
   "file_extension": ".py",
   "mimetype": "text/x-python",
   "name": "python",
   "nbconvert_exporter": "python",
   "pygments_lexer": "ipython3",
   "version": "3.7.9-final"
  }
 },
 "nbformat": 4,
 "nbformat_minor": 4
}