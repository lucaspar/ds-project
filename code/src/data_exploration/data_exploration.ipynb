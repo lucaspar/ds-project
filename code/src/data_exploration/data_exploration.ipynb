{
 "cells": [
  {
   "cell_type": "markdown",
   "metadata": {},
   "source": [
    "# Data Exploration"
   ]
  },
  {
   "cell_type": "code",
   "execution_count": 49,
   "metadata": {
    "execution": {
     "iopub.execute_input": "2020-10-23T00:42:00.238951Z",
     "iopub.status.busy": "2020-10-23T00:42:00.238543Z",
     "iopub.status.idle": "2020-10-23T00:42:00.289585Z",
     "shell.execute_reply": "2020-10-23T00:42:00.288334Z",
     "shell.execute_reply.started": "2020-10-23T00:42:00.238897Z"
    }
   },
   "outputs": [
    {
     "name": "stdout",
     "output_type": "stream",
     "text": [
      "The autoreload extension is already loaded. To reload it, use:\n",
      "  %reload_ext autoreload\n",
      "Base directory: /home/lucas/work/ds/project/code/src\n"
     ]
    }
   ],
   "source": [
    "%load_ext autoreload\n",
    "%autoreload 2\n",
    "\n",
    "import os\n",
    "BASE_DIR = os.path.abspath(\"..\")\n",
    "print(\"Base directory: {}\".format(BASE_DIR))\n",
    "import sys; sys.path.insert(0, BASE_DIR)"
   ]
  },
  {
   "cell_type": "code",
   "execution_count": 24,
   "metadata": {
    "execution": {
     "iopub.execute_input": "2020-10-23T00:31:46.391735Z",
     "iopub.status.busy": "2020-10-23T00:31:46.391403Z",
     "iopub.status.idle": "2020-10-23T00:31:46.439530Z",
     "shell.execute_reply": "2020-10-23T00:31:46.438812Z",
     "shell.execute_reply.started": "2020-10-23T00:31:46.391701Z"
    }
   },
   "outputs": [],
   "source": [
    "%matplotlib inline\n",
    "import os\n",
    "import utils\n",
    "import librosa\n",
    "import numpy as np\n",
    "import pandas as pd\n",
    "import seaborn as sns\n",
    "import IPython.display as ipd\n",
    "import matplotlib.pyplot as plt\n",
    "import sklearn.utils, sklearn.preprocessing, sklearn.decomposition, sklearn.svm\n",
    "\n",
    "dotenv_file = os.path.join(BASE_DIR, \"../env/.env\")\n",
    "utils.loadenv(dotenv_file)\n",
    "plt.rcParams['figure.figsize'] = (17, 5)\n"
   ]
  },
  {
   "cell_type": "code",
   "execution_count": 25,
   "metadata": {
    "execution": {
     "iopub.execute_input": "2020-10-23T00:31:47.605618Z",
     "iopub.status.busy": "2020-10-23T00:31:47.605336Z",
     "iopub.status.idle": "2020-10-23T00:32:08.578455Z",
     "shell.execute_reply": "2020-10-23T00:32:08.577641Z",
     "shell.execute_reply.started": "2020-10-23T00:31:47.605584Z"
    },
    "tags": []
   },
   "outputs": [
    {
     "data": {
      "text/plain": [
       "((106574, 52), (163, 4), (106574, 518), (13129, 249))"
      ]
     },
     "execution_count": 25,
     "metadata": {},
     "output_type": "execute_result"
    }
   ],
   "source": [
    "# Directory where mp3 are stored.\n",
    "DIR_DATA = os.environ.get('DIR_DATA')\n",
    "DIR_META = os.environ.get('DIR_META')\n",
    "\n",
    "# load metadata and features.\n",
    "genres = utils.load(os.path.join(DIR_META, 'genres.csv'))\n",
    "features = utils.load(os.path.join(DIR_META, 'features.csv'))\n",
    "echonest = utils.load(os.path.join(DIR_META, 'echonest.csv'))\n",
    "tracks = utils.load(os.path.join(DIR_META, 'tracks.csv'))\n",
    "\n",
    "np.testing.assert_array_equal(features.index, tracks.index)\n",
    "assert echonest.index.isin(tracks.index).all()\n",
    "\n",
    "tracks.shape, genres.shape, features.shape, echonest.shape"
   ]
  },
  {
   "cell_type": "markdown",
   "metadata": {},
   "source": [
    "## Genre Distribution"
   ]
  },
  {
   "cell_type": "code",
   "execution_count": 41,
   "metadata": {
    "execution": {
     "iopub.execute_input": "2020-10-23T00:37:56.814196Z",
     "iopub.status.busy": "2020-10-23T00:37:56.813900Z",
     "iopub.status.idle": "2020-10-23T00:37:57.144236Z",
     "shell.execute_reply": "2020-10-23T00:37:57.143221Z",
     "shell.execute_reply.started": "2020-10-23T00:37:56.814163Z"
    },
    "tags": []
   },
   "outputs": [
    {
     "name": "stdout",
     "output_type": "stream",
     "text": [
      "Number of unique genres: 16\n"
     ]
    },
    {
     "data": {
      "text/plain": [
       "<AxesSubplot:>"
      ]
     },
     "execution_count": 41,
     "metadata": {},
     "output_type": "execute_result"
    },
    {
     "data": {
      "image/png": "[encoded data removed]",
      "text/plain": [
       "<Figure size 1224x360 with 1 Axes>"
      ]
     },
     "metadata": {
      "needs_background": "light"
     },
     "output_type": "display_data"
    }
   ],
   "source": [
    "freqs = tracks['track']['genre_top'].value_counts()\n",
    "print(\"Number of unique genres: {}\".format(freqs.shape[0]))\n",
    "freqs.plot.bar()"
   ]
  },
  {
   "cell_type": "code",
   "execution_count": 38,
   "metadata": {
    "execution": {
     "iopub.execute_input": "2020-10-23T00:36:19.942737Z",
     "iopub.status.busy": "2020-10-23T00:36:19.942391Z",
     "iopub.status.idle": "2020-10-23T00:36:24.555068Z",
     "shell.execute_reply": "2020-10-23T00:36:24.554037Z",
     "shell.execute_reply.started": "2020-10-23T00:36:19.942695Z"
    },
    "tags": []
   },
   "outputs": [
    {
     "name": "stdout",
     "output_type": "stream",
     "text": [
      "(106574,)\n"
     ]
    }
   ],
   "source": [
    "mask_multi_genre = tracks['track']['genres'].str.len() > 1\n",
    "tracks['track']['genres'][mask_multi_genre].value_counts()\n",
    "\n",
    "print(tracks['track']['genres_all'].shape)"
   ]
  },
  {
   "cell_type": "markdown",
   "metadata": {},
   "source": [
    "### Small set only"
   ]
  },
  {
   "cell_type": "code",
   "execution_count": 48,
   "metadata": {
    "execution": {
     "iopub.execute_input": "2020-10-23T00:40:48.354248Z",
     "iopub.status.busy": "2020-10-23T00:40:48.353998Z",
     "iopub.status.idle": "2020-10-23T00:40:48.585310Z",
     "shell.execute_reply": "2020-10-23T00:40:48.584626Z",
     "shell.execute_reply.started": "2020-10-23T00:40:48.354221Z"
    },
    "tags": []
   },
   "outputs": [
    {
     "data": {
      "text/plain": [
       "Rock             1000\n",
       "Pop              1000\n",
       "International    1000\n",
       "Instrumental     1000\n",
       "Hip-Hop          1000\n",
       "Folk             1000\n",
       "Experimental     1000\n",
       "Electronic       1000\n",
       "Name: genre_top, dtype: int64"
      ]
     },
     "execution_count": 48,
     "metadata": {},
     "output_type": "execute_result"
    },
    {
     "data": {
      "image/png": "[encoded data removed]",
      "text/plain": [
       "<Figure size 1224x360 with 1 Axes>"
      ]
     },
     "metadata": {
      "needs_background": "light"
     },
     "output_type": "display_data"
    }
   ],
   "source": [
    "small = tracks[tracks['set', 'subset'] <= 'small']\n",
    "freqs = small['track']['genre_top'].value_counts()\n",
    "freqs = freqs[freqs > 0]    # filter out zeros\n",
    "freqs.plot.bar()\n",
    "freqs"
   ]
  }
 ],
 "metadata": {
  "kernelspec": {
   "display_name": "ca_ds",
   "language": "python",
   "name": "ca_ds"
  },
  "language_info": {
   "codemirror_mode": {
    "name": "ipython",
    "version": 3
   },
   "file_extension": ".py",
   "mimetype": "text/x-python",
   "name": "python",
   "nbconvert_exporter": "python",
   "pygments_lexer": "ipython3",
   "version": "3.7.8"
  }
 },
 "nbformat": 4,
 "nbformat_minor": 4
}
