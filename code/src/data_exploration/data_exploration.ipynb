{
 "cells": [
  {
   "cell_type": "code",
   "execution_count": 3,
   "metadata": {
    "execution": {
     "iopub.execute_input": "2020-10-22T23:51:14.266281Z",
     "iopub.status.busy": "2020-10-22T23:51:14.265973Z",
     "iopub.status.idle": "2020-10-22T23:51:14.411862Z",
     "shell.execute_reply": "2020-10-22T23:51:14.409355Z",
     "shell.execute_reply.started": "2020-10-22T23:51:14.266238Z"
    }
   },
   "outputs": [
    {
     "name": "stdout",
     "output_type": "stream",
     "text": [
      "/home/lucas/work/ds/project/code\n"
     ]
    }
   ],
   "source": [
    "!pwd"
   ]
  },
  {
   "cell_type": "code",
   "execution_count": 2,
   "metadata": {
    "execution": {
     "iopub.execute_input": "2020-10-22T23:50:25.438872Z",
     "iopub.status.busy": "2020-10-22T23:50:25.438537Z",
     "iopub.status.idle": "2020-10-22T23:50:25.471870Z",
     "shell.execute_reply": "2020-10-22T23:50:25.470137Z",
     "shell.execute_reply.started": "2020-10-22T23:50:25.438830Z"
    }
   },
   "outputs": [
    {
     "ename": "NameError",
     "evalue": "name '__file__' is not defined",
     "output_type": "error",
     "traceback": [
      "\u001b[0;31m---------------------------------------------------------------------------\u001b[0m",
      "\u001b[0;31mNameError\u001b[0m                                 Traceback (most recent call last)",
      "\u001b[0;32m<ipython-input-2-8b7b732d30fd>\u001b[0m in \u001b[0;36m<module>\u001b[0;34m\u001b[0m\n\u001b[1;32m      1\u001b[0m \u001b[0mget_ipython\u001b[0m\u001b[0;34m(\u001b[0m\u001b[0;34m)\u001b[0m\u001b[0;34m.\u001b[0m\u001b[0mrun_line_magic\u001b[0m\u001b[0;34m(\u001b[0m\u001b[0;34m'matplotlib'\u001b[0m\u001b[0;34m,\u001b[0m \u001b[0;34m'inline'\u001b[0m\u001b[0;34m)\u001b[0m\u001b[0;34m\u001b[0m\u001b[0;34m\u001b[0m\u001b[0m\n\u001b[1;32m      2\u001b[0m \u001b[0;34m\u001b[0m\u001b[0m\n\u001b[0;32m----> 3\u001b[0;31m \u001b[0mprint\u001b[0m\u001b[0;34m(\u001b[0m\u001b[0m__file__\u001b[0m\u001b[0;34m)\u001b[0m\u001b[0;34m\u001b[0m\u001b[0;34m\u001b[0m\u001b[0m\n\u001b[0m\u001b[1;32m      4\u001b[0m \u001b[0;34m\u001b[0m\u001b[0m\n\u001b[1;32m      5\u001b[0m \u001b[0;32mimport\u001b[0m \u001b[0mos\u001b[0m\u001b[0;34m\u001b[0m\u001b[0;34m\u001b[0m\u001b[0m\n",
      "\u001b[0;31mNameError\u001b[0m: name '__file__' is not defined"
     ]
    }
   ],
   "source": [
    "%matplotlib inline\n",
    "import os\n",
    "import IPython.display as ipd\n",
    "import numpy as np\n",
    "import pandas as pd\n",
    "import matplotlib.pyplot as plt\n",
    "import seaborn as sns\n",
    "import sklearn as skl\n",
    "import sklearn.utils, sklearn.preprocessing, sklearn.decomposition, sklearn.svm\n",
    "import utils\n",
    "import librosa\n",
    "import librosa.display\n",
    "\n",
    "plt.rcParams['figure.figsize'] = (17, 5)"
   ]
  },
  {
   "cell_type": "code",
   "execution_count": 130,
   "metadata": {
    "tags": []
   },
   "outputs": [
    {
     "name": "stdout",
     "output_type": "stream",
     "text": [
      "The autoreload extension is already loaded. To reload it, use:\n",
      "  %reload_ext autoreload\n"
     ]
    },
    {
     "data": {
      "text/plain": [
       "((106574, 52), (163, 4), (106574, 518), (13129, 249))"
      ]
     },
     "execution_count": 130,
     "metadata": {},
     "output_type": "execute_result"
    }
   ],
   "source": [
    "%load_ext autoreload\n",
    "%autoreload 2\n",
    "# Directory where mp3 are stored.\n",
    "DIR_FMA = \"/media/eric/BulkyStorage/datasets/fma/\"\n",
    "#DIR_FMA = os.environ.get('AUDIO_DIR')\n",
    "\n",
    "DIR_META = os.path.join(DIR_FMA, \"fma_metadata\")\n",
    "DIR_SMALL = os.path.join(DIR_FMA, \"fma_small\")\n",
    "\n",
    "# load metadata and features.\n",
    "genres = utils.load(os.path.join(DIR_META, 'genres.csv'))\n",
    "features = utils.load(os.path.join(DIR_META, 'features.csv'))\n",
    "echonest = utils.load(os.path.join(DIR_META, 'echonest.csv'))\n",
    "tracks = utils.load(os.path.join(DIR_META, 'tracks.csv'))\n",
    "\n",
    "\n",
    "np.testing.assert_array_equal(features.index, tracks.index)\n",
    "assert echonest.index.isin(tracks.index).all()\n",
    "\n",
    "tracks.shape, genres.shape, features.shape, echonest.shape"
   ]
  },
  {
   "cell_type": "code",
   "execution_count": 131,
   "metadata": {
    "tags": []
   },
   "outputs": [],
   "source": [
    "#ipd.display(tracks['track']['genre_top'])\n",
    "#mask = (tracks['track']['genres'].str.len()>1)\n",
    "#tracks_multi_genres=(tracks['track']['genres'][mask])\n",
    "#print(tracks['track']['genres_all'].shape)\n",
    "#ipd.display(tracks.columns)\n",
    "#ipd.display(tracks['album'].head())\n",
    "#ipd.display(tracks['artist'].head())\n",
    "#ipd.display(tracks['set'].head())\n"
   ]
  },
  {
   "cell_type": "code",
   "execution_count": 132,
   "metadata": {
    "tags": []
   },
   "outputs": [
    {
     "name": "stdout",
     "output_type": "stream",
     "text": [
      "***small dataset track_id with its labeled genre\n",
      "track_id\n",
      "2         Hip-Hop\n",
      "5         Hip-Hop\n",
      "10            Pop\n",
      "140          Folk\n",
      "141          Folk\n",
      "           ...   \n",
      "154308    Hip-Hop\n",
      "154309    Hip-Hop\n",
      "154413        Pop\n",
      "154414        Pop\n",
      "155066    Hip-Hop\n",
      "Name: genre_top, Length: 8000, dtype: category\n",
      "Categories (16, object): ['Blues', 'Classical', 'Country', 'Easy Listening', ..., 'Pop', 'Rock', 'Soul-RnB', 'Spoken']\n",
      "***8 catogeries shown using [genre_top]\n",
      "['Hip-Hop', 'Pop', 'Folk', 'Experimental', 'Rock', 'International', 'Electronic', 'Instrumental']\n",
      "Categories (8, object): ['Hip-Hop', 'Pop', 'Folk', 'Experimental', 'Rock', 'International', 'Electronic', 'Instrumental']\n"
     ]
    }
   ],
   "source": [
    "small = tracks[tracks['set', 'subset'] <= 'small']\n",
    "df=small['track']['genre_top']\n",
    "print(\"***small dataset track_id with its labeled genre\")\n",
    "print(df)\n",
    "\n",
    "print(\"***8 catogeries shown using [genre_top]\")\n",
    "print(df.unique())\n"
   ]
  },
  {
   "cell_type": "code",
   "execution_count": 133,
   "metadata": {
    "tags": []
   },
   "outputs": [],
   "source": [
    "#print('{} top-level genres'.format(len(genres['top_level'].unique())))\n",
    "# print(genres.loc[genres['top_level'].unique()])\n",
    "# genres.loc[genres['top_level'].unique()].sort_values('#tracks', ascending=False)"
   ]
  },
  {
   "cell_type": "code",
   "execution_count": 134,
   "metadata": {},
   "outputs": [],
   "source": [
    "# genres.sort_values('#tracks').head()"
   ]
  }
 ],
 "metadata": {
  "kernelspec": {
   "display_name": "ca_ds",
   "language": "python",
   "name": "ca_ds"
  },
  "language_info": {
   "codemirror_mode": {
    "name": "ipython",
    "version": 3
   },
   "file_extension": ".py",
   "mimetype": "text/x-python",
   "name": "python",
   "nbconvert_exporter": "python",
   "pygments_lexer": "ipython3",
   "version": "3.7.8"
  }
 },
 "nbformat": 4,
 "nbformat_minor": 4
}
